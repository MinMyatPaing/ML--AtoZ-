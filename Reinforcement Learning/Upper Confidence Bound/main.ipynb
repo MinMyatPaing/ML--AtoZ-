{
 "cells": [
  {
   "cell_type": "code",
   "execution_count": 1,
   "id": "a11c7c4f",
   "metadata": {},
   "outputs": [],
   "source": [
    "import math\n",
    "import matplotlib.pyplot as plt\n",
    "import pandas as pd\n",
    "import numpy as np"
   ]
  },
  {
   "cell_type": "code",
   "execution_count": 3,
   "id": "1d7659ea",
   "metadata": {},
   "outputs": [
    {
     "data": {
      "application/vnd.microsoft.datawrangler.viewer.v0+json": {
       "columns": [
        {
         "name": "index",
         "rawType": "int64",
         "type": "integer"
        },
        {
         "name": "Ad 1",
         "rawType": "int64",
         "type": "integer"
        },
        {
         "name": "Ad 2",
         "rawType": "int64",
         "type": "integer"
        },
        {
         "name": "Ad 3",
         "rawType": "int64",
         "type": "integer"
        },
        {
         "name": "Ad 4",
         "rawType": "int64",
         "type": "integer"
        },
        {
         "name": "Ad 5",
         "rawType": "int64",
         "type": "integer"
        },
        {
         "name": "Ad 6",
         "rawType": "int64",
         "type": "integer"
        },
        {
         "name": "Ad 7",
         "rawType": "int64",
         "type": "integer"
        },
        {
         "name": "Ad 8",
         "rawType": "int64",
         "type": "integer"
        },
        {
         "name": "Ad 9",
         "rawType": "int64",
         "type": "integer"
        },
        {
         "name": "Ad 10",
         "rawType": "int64",
         "type": "integer"
        }
       ],
       "conversionMethod": "pd.DataFrame",
       "ref": "2065f6a4-ec21-41f3-9daa-f34ce65cb9f6",
       "rows": [
        [
         "0",
         "1",
         "0",
         "0",
         "0",
         "1",
         "0",
         "0",
         "0",
         "1",
         "0"
        ],
        [
         "1",
         "0",
         "0",
         "0",
         "0",
         "0",
         "0",
         "0",
         "0",
         "1",
         "0"
        ],
        [
         "2",
         "0",
         "0",
         "0",
         "0",
         "0",
         "0",
         "0",
         "0",
         "0",
         "0"
        ],
        [
         "3",
         "0",
         "1",
         "0",
         "0",
         "0",
         "0",
         "0",
         "1",
         "0",
         "0"
        ],
        [
         "4",
         "0",
         "0",
         "0",
         "0",
         "0",
         "0",
         "0",
         "0",
         "0",
         "0"
        ]
       ],
       "shape": {
        "columns": 10,
        "rows": 5
       }
      },
      "text/html": [
       "<div>\n",
       "<style scoped>\n",
       "    .dataframe tbody tr th:only-of-type {\n",
       "        vertical-align: middle;\n",
       "    }\n",
       "\n",
       "    .dataframe tbody tr th {\n",
       "        vertical-align: top;\n",
       "    }\n",
       "\n",
       "    .dataframe thead th {\n",
       "        text-align: right;\n",
       "    }\n",
       "</style>\n",
       "<table border=\"1\" class=\"dataframe\">\n",
       "  <thead>\n",
       "    <tr style=\"text-align: right;\">\n",
       "      <th></th>\n",
       "      <th>Ad 1</th>\n",
       "      <th>Ad 2</th>\n",
       "      <th>Ad 3</th>\n",
       "      <th>Ad 4</th>\n",
       "      <th>Ad 5</th>\n",
       "      <th>Ad 6</th>\n",
       "      <th>Ad 7</th>\n",
       "      <th>Ad 8</th>\n",
       "      <th>Ad 9</th>\n",
       "      <th>Ad 10</th>\n",
       "    </tr>\n",
       "  </thead>\n",
       "  <tbody>\n",
       "    <tr>\n",
       "      <th>0</th>\n",
       "      <td>1</td>\n",
       "      <td>0</td>\n",
       "      <td>0</td>\n",
       "      <td>0</td>\n",
       "      <td>1</td>\n",
       "      <td>0</td>\n",
       "      <td>0</td>\n",
       "      <td>0</td>\n",
       "      <td>1</td>\n",
       "      <td>0</td>\n",
       "    </tr>\n",
       "    <tr>\n",
       "      <th>1</th>\n",
       "      <td>0</td>\n",
       "      <td>0</td>\n",
       "      <td>0</td>\n",
       "      <td>0</td>\n",
       "      <td>0</td>\n",
       "      <td>0</td>\n",
       "      <td>0</td>\n",
       "      <td>0</td>\n",
       "      <td>1</td>\n",
       "      <td>0</td>\n",
       "    </tr>\n",
       "    <tr>\n",
       "      <th>2</th>\n",
       "      <td>0</td>\n",
       "      <td>0</td>\n",
       "      <td>0</td>\n",
       "      <td>0</td>\n",
       "      <td>0</td>\n",
       "      <td>0</td>\n",
       "      <td>0</td>\n",
       "      <td>0</td>\n",
       "      <td>0</td>\n",
       "      <td>0</td>\n",
       "    </tr>\n",
       "    <tr>\n",
       "      <th>3</th>\n",
       "      <td>0</td>\n",
       "      <td>1</td>\n",
       "      <td>0</td>\n",
       "      <td>0</td>\n",
       "      <td>0</td>\n",
       "      <td>0</td>\n",
       "      <td>0</td>\n",
       "      <td>1</td>\n",
       "      <td>0</td>\n",
       "      <td>0</td>\n",
       "    </tr>\n",
       "    <tr>\n",
       "      <th>4</th>\n",
       "      <td>0</td>\n",
       "      <td>0</td>\n",
       "      <td>0</td>\n",
       "      <td>0</td>\n",
       "      <td>0</td>\n",
       "      <td>0</td>\n",
       "      <td>0</td>\n",
       "      <td>0</td>\n",
       "      <td>0</td>\n",
       "      <td>0</td>\n",
       "    </tr>\n",
       "  </tbody>\n",
       "</table>\n",
       "</div>"
      ],
      "text/plain": [
       "   Ad 1  Ad 2  Ad 3  Ad 4  Ad 5  Ad 6  Ad 7  Ad 8  Ad 9  Ad 10\n",
       "0     1     0     0     0     1     0     0     0     1      0\n",
       "1     0     0     0     0     0     0     0     0     1      0\n",
       "2     0     0     0     0     0     0     0     0     0      0\n",
       "3     0     1     0     0     0     0     0     1     0      0\n",
       "4     0     0     0     0     0     0     0     0     0      0"
      ]
     },
     "execution_count": 3,
     "metadata": {},
     "output_type": "execute_result"
    }
   ],
   "source": [
    "dataset = pd.read_csv('./Ads_CTR_Optimisation.csv')\n",
    "dataset.head()"
   ]
  },
  {
   "cell_type": "code",
   "execution_count": 11,
   "id": "68405456",
   "metadata": {},
   "outputs": [],
   "source": [
    "N = 700  # Total number of rounds (users visiting the website)\n",
    "d = 10  # Number of ads (arms of the bandit)\n",
    "ads_selected = []  # List to store the index of the selected ad in each round\n",
    "numbers_of_selection = [0] * d  # Number of times each ad has been selected\n",
    "sums_of_rewards = [0] * d  # Sum of rewards for each ad\n",
    "total_reward = 0  # Total reward accumulated\n",
    "\n",
    "for n in range(0, N):\n",
    "    ad = 0  # Initialize the selected ad for this round\n",
    "    max_upper_bound = 0  # Initialize the maximum upper confidence bound\n",
    "    for i in range(0, d):  # Iterate over all ads\n",
    "        if numbers_of_selection[i] > 0:  # If the ad has been selected at least once\n",
    "            average_reward = sums_of_rewards[i] / numbers_of_selection[i]  # Calculate the average reward\n",
    "            delta_i = math.sqrt(3 / 2 * math.log(n + 1) / numbers_of_selection[i])  # Calculate the confidence interval\n",
    "            upper_bound = average_reward + delta_i  # Calculate the upper confidence bound\n",
    "        else:\n",
    "            upper_bound = 1e4000  # Assign a very high value to ensure the ad is selected at least once\n",
    "        if upper_bound > max_upper_bound:  # Update the ad with the highest upper bound\n",
    "            max_upper_bound = upper_bound\n",
    "            ad = i\n",
    "    ads_selected.append(ad)  # Record the selected ad\n",
    "    numbers_of_selection[ad] += 1  # Increment the count of selections for the selected ad\n",
    "    reward = dataset.values[n, ad]  # Get the reward for the selected ad\n",
    "    sums_of_rewards[ad] += reward  # Update the sum of rewards for the selected ad\n",
    "    total_reward += reward  # Update the total reward"
   ]
  },
  {
   "cell_type": "code",
   "execution_count": 12,
   "id": "3e796a5c",
   "metadata": {},
   "outputs": [
    {
     "data": {
      "image/png": "[encoded data removed]",
      "text/plain": [
       "<Figure size 640x480 with 1 Axes>"
      ]
     },
     "metadata": {},
     "output_type": "display_data"
    }
   ],
   "source": [
    "plt.hist(ads_selected)\n",
    "plt.title('Histogram')\n",
    "plt.xlabel('Adverts')\n",
    "plt.ylabel('Number of Selected Ads')\n",
    "plt.show()"
   ]
  },
  {
   "cell_type": "markdown",
   "id": "b05bfba5",
   "metadata": {},
   "source": [
    "# More Elegant Code"
   ]
  },
  {
   "cell_type": "code",
   "execution_count": null,
   "id": "d215f7f2",
   "metadata": {},
   "outputs": [],
   "source": [
    "import numpy as np\n",
    "\n",
    "# Initialize variables\n",
    "numbers_of_selection = np.zeros(d)\n",
    "sums_of_rewards = np.zeros(d)\n",
    "ads_selected = []\n",
    "total_reward = 0\n",
    "\n",
    "for n in range(N):\n",
    "    if n < d:\n",
    "        ad = n  # Ensure each ad is selected at least once\n",
    "    else:\n",
    "        average_rewards = sums_of_rewards / np.maximum(numbers_of_selection, 1)\n",
    "        delta = np.sqrt(3 / 2 * np.log(n + 1) / np.maximum(numbers_of_selection, 1))\n",
    "        upper_bounds = average_rewards + delta\n",
    "        ad = np.argmax(upper_bounds)\n",
    "    \n",
    "    ads_selected.append(ad)\n",
    "    numbers_of_selection[ad] += 1\n",
    "    reward = dataset.values[n, ad]\n",
    "    sums_of_rewards[ad] += reward\n",
    "    total_reward += reward"
   ]
  }
 ],
 "metadata": {
  "kernelspec": {
   "display_name": "Python 3",
   "language": "python",
   "name": "python3"
  },
  "language_info": {
   "codemirror_mode": {
    "name": "ipython",
    "version": 3
   },
   "file_extension": ".py",
   "mimetype": "text/x-python",
   "name": "python",
   "nbconvert_exporter": "python",
   "pygments_lexer": "ipython3",
   "version": "3.11.11"
  }
 },
 "nbformat": 4,
 "nbformat_minor": 5
}
